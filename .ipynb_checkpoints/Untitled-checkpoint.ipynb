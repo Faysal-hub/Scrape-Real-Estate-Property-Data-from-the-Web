{
 "cells": [
  {
   "cell_type": "code",
   "execution_count": 5,
   "metadata": {},
   "outputs": [
    {
     "name": "stdout",
     "output_type": "stream",
     "text": [
      "3 number of pages were found\n"
     ]
    }
   ],
   "source": [
    "import requests, re\n",
    "import pandas\n",
    "from bs4 import BeautifulSoup\n",
    "\n",
    "r = requests.get(\"http://www.pyclass.com/real-estate/rock-springs-wy/LCWYROCKSPRINGS/\", headers={'User-agent': 'Mozilla/5.0 (X11; Ubuntu; Linux x86_64; rv:61.0) Gecko/20100101 Firefox/61.0'})\n",
    "c=r.content\n",
    "\n",
    "soup=BeautifulSoup(c,\"html.parser\")\n",
    "\n",
    "all=soup.find_all(\"div\",{\"class\":\"propertyRow\"})\n",
    "\n",
    "all[0].find(\"h4\",{\"class\":\"propPrice\"}).text.replace(\"\\n\",\"\").replace(\" \",\"\")\n",
    "\n",
    "page_nr=soup.find_all(\"a\",{\"class\":\"Page\"})[-1].text\n",
    "print(page_nr,\"number of pages were found\")\n",
    "page_nr=soup.find_all(\"a\",{\"class\":\"Page\"})[-1].text"
   ]
  },
  {
   "cell_type": "code",
   "execution_count": null,
   "metadata": {},
   "outputs": [],
   "source": [
    "l=[]\n",
    "base_url=\"http://www.pyclass.com/real-estate/rock-springs-wy/LCWYROCKSPRINGS/t=0&s=\"\n",
    "for page in range(0,30,10):\n",
    "    print(base_url+str(page)+\".html\")\n",
    "    r = requests.get(base_url+str(page)+\".html\", headers={'User-agent': 'Mozilla/5.0 (X11; Ubuntu; Linux x86_64; rv:61.0) Gecko/20100101 Firefox/61.0'})\n",
    "    c = r.content\n",
    "    soup = BeautifulSoup(c,\"html.parser\")\n",
    "    all = soup.find_all(\"div\",{\"class\":\"propertyRow\"})\n",
    "    \n",
    "    for item in all:\n",
    "        d={}\n",
    "        d[\"Address\"] = item.find_all(\"span\", {\"class\":\"propAddressCollapse\"})[0].text\n",
    "        try:\n",
    "            d[\"Locality\"] = item.find_all(\"span\", {\"class\":\"propAddressCollapse\"})[1].text\n",
    "        except:\n",
    "            d[\"Locality\"] = None\n",
    "        \n",
    "        d[\"Price\"] = item.find(\"h4\", {\"class\":\"propPrice\"}).text.replace(\"\\n\", \"\").replace(\" \",\"\")\n",
    "\n",
    "        try:\n",
    "            d[\"Beds\"] = item.find(\"span\",{\"class\":\"infoBed\"}).find(\"b\").text\n",
    "        except:\n",
    "            d[\"Beds\"] = None\n",
    "\n",
    "        try:\n",
    "            d[\"Area\"] = item.find(\"span\",{\"class\":\"infoSqFt\"}).find(\"b\").text\n",
    "        except:\n",
    "            d[\"Area\"] = None\n",
    "\n",
    "        try:\n",
    "            d[\"Full Baths\"] = item.find(\"span\",{\"class\":\"infoValueFullBath\"}).find(\"b\").text\n",
    "        except:\n",
    "            d[\"Full Baths\"] = None\n",
    "        try:\n",
    "            d[\"Half Baths\"] = item.find(\"span\",{\"class\":\"infoValueHalfBath\"}).find(\"b\").text\n",
    "        except:\n",
    "            d[\"Half Baths\"] = None\n",
    "\n",
    "        for column_group in item.find_all(\"div\", {\"class\" : \"columnGroup\"}):\n",
    "            for feature_group, feature_name in zip(column_group.find_all(\"span\",{\"class\":\"featureGroup\"}),column_group.find_all(\"span\",{\"class\":\"featureName\"})):\n",
    "                if \"Lot Size\" in feature_group.text:\n",
    "                    d[\"Lot Size\"] =feature_name.text\n",
    "\n",
    "        l.append(d)\n",
    "    \n",
    "\n",
    "df=pandas.DataFrame(l)\n",
    "\n",
    "df.to_csv(\"Output.csv\")"
   ]
  }
 ],
 "metadata": {
  "kernelspec": {
   "display_name": "Python 3",
   "language": "python",
   "name": "python3"
  },
  "language_info": {
   "codemirror_mode": {
    "name": "ipython",
    "version": 3
   },
   "file_extension": ".py",
   "mimetype": "text/x-python",
   "name": "python",
   "nbconvert_exporter": "python",
   "pygments_lexer": "ipython3",
   "version": "3.6.9"
  }
 },
 "nbformat": 4,
 "nbformat_minor": 4
}
